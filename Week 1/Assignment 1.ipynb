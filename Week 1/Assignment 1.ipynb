{
 "cells": [
  {
   "cell_type": "markdown",
   "metadata": {},
   "source": [
    "Permutation with Repetition\n",
    "How many 9-digit numbers we can generate from digits 1,1,5,5,5,0,0,0,0? "
   ]
  },
  {
   "cell_type": "code",
   "execution_count": 6,
   "metadata": {},
   "outputs": [
    {
     "name": "stdout",
     "output_type": "stream",
     "text": [
      "420.0\n"
     ]
    }
   ],
   "source": [
    "from math import factorial as fac\n",
    "\n",
    "n = 9\n",
    "r1 = 2\n",
    "r2 = 3\n",
    "r3 = 4\n",
    "valid_numbers = fac(n)/(fac(r1)*fac(r2)*fac(r3))\n",
    "\n",
    "for i in range(1, 5):\n",
    "    valid_numbers -= fac(n - i)/(fac(r1)*fac(r2)*fac(r3 - i))\n",
    "\n",
    "print(valid_numbers)\n",
    "\n",
    "# valid_numbers = 2 * fac(8)/(fac(2)*fac(3)*fac(3))\n",
    "# print(valid_numbers)\n"
   ]
  },
  {
   "cell_type": "markdown",
   "metadata": {},
   "source": [
    "variations without repetition\n",
    "How many valid 3-digit numbers, where each digit is unique, can be generated from digits 0,1,2,3,4,5,6,7,8?"
   ]
  },
  {
   "cell_type": "code",
   "execution_count": 9,
   "metadata": {},
   "outputs": [
    {
     "name": "stdout",
     "output_type": "stream",
     "text": [
      "448.0\n"
     ]
    }
   ],
   "source": [
    "from math import factorial as fac\n",
    "\n",
    "n = 9\n",
    "r = 3\n",
    "valid_numbers = (n - 1)* fac(n-1)/fac((n-1) - (r-1))\n",
    "\n",
    "print(valid_numbers)"
   ]
  },
  {
   "cell_type": "markdown",
   "metadata": {},
   "source": [
    "Variations with Repetition\n",
    "How many valid 3-digit numbers can be generated from digits 0,1,2,3,4,5,6,7,8?"
   ]
  },
  {
   "cell_type": "code",
   "execution_count": null,
   "metadata": {},
   "outputs": [],
   "source": [
    "n = 9\n",
    "valid_numbers = (n - 1) * n * n\n",
    "\n",
    "print(valid_numbers)"
   ]
  },
  {
   "cell_type": "markdown",
   "metadata": {},
   "source": [
    "Combination\n",
    "In a lotterry bag, there are numbers 0,1,2,...,9. The ticket is for guessing four numbers, and the first price is if you correctly guess all\n",
    "four numbers.\n",
    "What is the probability that you win the first price?\n",
    "If one ticket costs 1,-Eur, :\n"
   ]
  },
  {
   "cell_type": "markdown",
   "metadata": {},
   "source": [
    "What is your chance to win 1st price for 20,-Eur?"
   ]
  },
  {
   "cell_type": "code",
   "execution_count": 10,
   "metadata": {},
   "outputs": [
    {
     "name": "stdout",
     "output_type": "stream",
     "text": [
      "0.09523809523809525\n"
     ]
    }
   ],
   "source": [
    "from math import comb\n",
    "\n",
    "n = 10\n",
    "r = 4\n",
    "no_of_tickets = 20\n",
    "\n",
    "total_choice = comb(n, r)\n",
    "probability = 1/total_choice\n",
    "probability_new = probability * no_of_tickets\n",
    "\n",
    "print(probability_new)"
   ]
  },
  {
   "cell_type": "markdown",
   "metadata": {},
   "source": [
    "How much money you have to spend to have 10% chance to win the 1st price?"
   ]
  },
  {
   "cell_type": "code",
   "execution_count": 16,
   "metadata": {},
   "outputs": [
    {
     "name": "stdout",
     "output_type": "stream",
     "text": [
      "21.0\n"
     ]
    }
   ],
   "source": [
    "from math import comb\n",
    "\n",
    "n = 10\n",
    "r = 4\n",
    "chances_to_increase = 10/100\n",
    "\n",
    "total_choice = comb(n, r)\n",
    "probability = 1/total_choice\n",
    "no_of_tickets = chances_to_increase * (1 / probability)\n",
    "\n",
    "print(no_of_tickets)\n"
   ]
  },
  {
   "cell_type": "markdown",
   "metadata": {},
   "source": [
    "Combination with repetation\n",
    "In the lottery bag, there are numbers 0,1,2,...,9 and the number is returned to the bag after each drawing. The ticket is for guessing\n",
    "four numbers, and the first price is if you correctly guess all four numbers.\n",
    "What is the probability that you win the first price?\n",
    "If one ticket costs 1,-Eur:"
   ]
  },
  {
   "cell_type": "markdown",
   "metadata": {},
   "source": [
    "What is your chance to win 1st price for 20,-Eur?"
   ]
  },
  {
   "cell_type": "code",
   "execution_count": 17,
   "metadata": {},
   "outputs": [
    {
     "name": "stdout",
     "output_type": "stream",
     "text": [
      "0.027972027972027972\n"
     ]
    }
   ],
   "source": [
    "from math import comb\n",
    "\n",
    "n = 10\n",
    "r = 4\n",
    "no_of_tickets = 20\n",
    "\n",
    "total_choice = comb(n + r - 1, r)\n",
    "probability = 1/total_choice\n",
    "probability_new = probability * no_of_tickets\n",
    "\n",
    "print(probability_new)"
   ]
  },
  {
   "cell_type": "markdown",
   "metadata": {},
   "source": [
    "How much money you have to spend to have 10% chance to win the 1st price?"
   ]
  },
  {
   "cell_type": "code",
   "execution_count": 20,
   "metadata": {},
   "outputs": [
    {
     "name": "stdout",
     "output_type": "stream",
     "text": [
      "72\n"
     ]
    }
   ],
   "source": [
    "from math import comb, ceil\n",
    "\n",
    "n = 10\n",
    "r = 4\n",
    "chances_to_increase = 10/100\n",
    "\n",
    "total_choice = comb(n + r - 1, r)\n",
    "probability = 1/total_choice\n",
    "no_of_tickets = chances_to_increase * (1 / probability)\n",
    "\n",
    "print(ceil(no_of_tickets))"
   ]
  },
  {
   "cell_type": "markdown",
   "metadata": {},
   "source": [
    "Binomial Distribution"
   ]
  },
  {
   "cell_type": "markdown",
   "metadata": {},
   "source": [
    "There is running same independent computers. Operating system on all computers is updated at once for all computers.\n",
    "During previous updates, it was observed that in average about computers out of had problems that consequently\n",
    "required technical support.\n",
    "Questions:\n",
    "P...choose P as the probability that a computer will need maintenance after its update, P ∈ <0, 1>, p << 1\n",
    "N...choose the number of all computers."
   ]
  },
  {
   "cell_type": "markdown",
   "metadata": {},
   "source": [
    "What is the probability that no computer will need technical support after update?"
   ]
  },
  {
   "cell_type": "code",
   "execution_count": null,
   "metadata": {},
   "outputs": [],
   "source": [
    "from math import comb\n",
    "\n",
    "N = input(int(\"Enter the total number of computers : \"))\n",
    "p = input(int(\"Enter the number of computer will need maintenance after its update : \"))\n",
    "\n",
    "n = 0\n",
    "\n",
    "probability_computer_need_maintain = comb(N, N) * pow((1 - p), N) * pow(p, (N - N))\n",
    "\n",
    "print(probability_computer_need_maintain)"
   ]
  },
  {
   "cell_type": "markdown",
   "metadata": {},
   "source": [
    "What is the probability that all computers will need technical support after update?"
   ]
  },
  {
   "cell_type": "code",
   "execution_count": null,
   "metadata": {},
   "outputs": [],
   "source": [
    "from math import comb\n",
    "\n",
    "N = input(int(\"Enter the total number of computers : \"))\n",
    "p = input(int(\"Enter the number of computer will need maintenance after its update : \"))\n",
    "\n",
    "n = 0\n",
    "\n",
    "probability_computer_need_maintain = 1 - comb(N, N) * pow((1 - p), N) * pow(p, (N - N))\n",
    "\n",
    "print(probability_computer_need_maintain)"
   ]
  },
  {
   "cell_type": "markdown",
   "metadata": {},
   "source": [
    "What is the probability that only one particular computer will need technical support after update?"
   ]
  },
  {
   "cell_type": "code",
   "execution_count": null,
   "metadata": {},
   "outputs": [],
   "source": [
    "from math import comb\n",
    "\n",
    "N = input(int(\"Enter the total number of computers : \"))\n",
    "p = input(int(\"Enter the number of computer will need maintenance after its update : \"))\n",
    "\n",
    "n = 1\n",
    "\n",
    "probability_new = comb(N, N - n) * pow(1 - p, N - n) * pow(p, (N - (N - n)))\n",
    "\n",
    "print(probability_new)"
   ]
  },
  {
   "cell_type": "markdown",
   "metadata": {},
   "source": [
    "What is the probability that one computer (anyone out of all) will need technical support after update?"
   ]
  },
  {
   "cell_type": "code",
   "execution_count": null,
   "metadata": {},
   "outputs": [],
   "source": [
    "from math import comb\n",
    "\n",
    "N = input(int(\"Enter the total number of computers : \"))\n",
    "p = input(int(\"Enter the number of computer will need maintenance after its update : \"))\n",
    "\n",
    "n = 1\n",
    "\n",
    "probability = 1 - pow(1 - p, N)\n",
    "\n",
    "print(probability)"
   ]
  },
  {
   "cell_type": "markdown",
   "metadata": {},
   "source": [
    "What is the probability that any two computers will need technical support after update?"
   ]
  },
  {
   "cell_type": "code",
   "execution_count": null,
   "metadata": {},
   "outputs": [],
   "source": [
    "from math import comb\n",
    "\n",
    "N = input(int(\"Enter the total number of computers : \"))\n",
    "p = input(int(\"Enter the number of computer will need maintenance after its update : \"))\n",
    "\n",
    "n = 2\n",
    "\n",
    "probability = 1 - pow(1 - p, n)\n",
    "\n",
    "print(probability)"
   ]
  },
  {
   "cell_type": "markdown",
   "metadata": {},
   "source": [
    "What is the probability that any three computers will need technical support after update?"
   ]
  },
  {
   "cell_type": "code",
   "execution_count": null,
   "metadata": {},
   "outputs": [],
   "source": [
    "from math import comb\n",
    "\n",
    "N = input(int(\"Enter the total number of computers : \"))\n",
    "p = input(int(\"Enter the number of computer will need maintenance after its update : \"))\n",
    "\n",
    "n = 3\n",
    "\n",
    "probability = 1 - pow(1 - p, n)\n",
    "\n",
    "print(probability)"
   ]
  },
  {
   "cell_type": "markdown",
   "metadata": {},
   "source": [
    "What is variance and standard deviation of this probability distribution? i.e. how many computers is estimated to need the support\n",
    "plus minus? mean ± variance"
   ]
  },
  {
   "cell_type": "code",
   "execution_count": null,
   "metadata": {},
   "outputs": [],
   "source": [
    "from math import comb, sqrt\n",
    "\n",
    "N = input(int(\"Enter the total number of computers : \"))\n",
    "p = input(int(\"Enter the number of computer will need maintenance after its update : \"))\n",
    "\n",
    "n = 1\n",
    "\n",
    "varience = N * (n - p) * p\n",
    "standard_var = sqrt(N * (n - p) * p)\n",
    "\n",
    "print(\"Varrience : \", varience)\n",
    "print(\"Standard variance : \", standard_var)"
   ]
  },
  {
   "cell_type": "markdown",
   "metadata": {},
   "source": [
    "What is the probability that a particular number of computers will need technical support after the update? Draw the graphs of\n",
    "probability distribution for your chosen value of p << 1 and and for p = 0.5."
   ]
  },
  {
   "cell_type": "code",
   "execution_count": null,
   "metadata": {},
   "outputs": [],
   "source": [
    "from math import comb\n",
    "\n",
    "N = input(int(\"Enter the total number of computers : \"))\n",
    "p = input(int(\"Enter the number of computer will need maintenance after its update : \"))\n",
    "\n",
    "n = 1"
   ]
  },
  {
   "cell_type": "markdown",
   "metadata": {},
   "source": [
    "For the achieved probability distributions in previous task 9., calculate numericaly the mean and variance, and compare the\n",
    "values with the values directly calculated by formulas for mean and variance of binomial distribution."
   ]
  },
  {
   "cell_type": "code",
   "execution_count": null,
   "metadata": {},
   "outputs": [],
   "source": [
    "from math import comb\n",
    "\n",
    "N = input(int(\"Enter the total number of computers : \"))\n",
    "p = input(int(\"Enter the number of computer will need maintenance after its update : \"))\n",
    "\n",
    "n = 1"
   ]
  }
 ],
 "metadata": {
  "kernelspec": {
   "display_name": "Python 3",
   "language": "python",
   "name": "python3"
  },
  "language_info": {
   "codemirror_mode": {
    "name": "ipython",
    "version": 3
   },
   "file_extension": ".py",
   "mimetype": "text/x-python",
   "name": "python",
   "nbconvert_exporter": "python",
   "pygments_lexer": "ipython3",
   "version": "3.11.4"
  },
  "orig_nbformat": 4
 },
 "nbformat": 4,
 "nbformat_minor": 2
}
